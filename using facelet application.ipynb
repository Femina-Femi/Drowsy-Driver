{
 "cells": [
  {
   "cell_type": "code",
   "execution_count": 1,
   "id": "bc08717f",
   "metadata": {},
   "outputs": [
    {
     "name": "stdout",
     "output_type": "stream",
     "text": [
      "WARNING:tensorflow:From C:\\Users\\Lenovo\\anaconda3\\Lib\\site-packages\\keras\\src\\losses.py:2976: The name tf.losses.sparse_softmax_cross_entropy is deprecated. Please use tf.compat.v1.losses.sparse_softmax_cross_entropy instead.\n",
      "\n",
      "pygame 2.5.2 (SDL 2.28.3, Python 3.11.4)\n",
      "Hello from the pygame community. https://www.pygame.org/contribute.html\n"
     ]
    }
   ],
   "source": [
    "from tensorflow.keras.applications.mobilenet_v2 import preprocess_input\n",
    "from tensorflow.keras.preprocessing.image import img_to_array,load_img\n",
    "from keras.models import load_model\n",
    "from imutils.video import VideoStream\n",
    "import numpy as np\n",
    "import argparse\n",
    "import imutils\n",
    "import time\n",
    "import cv2\n",
    "import os\n",
    "from pygame import mixer\n",
    "\n"
   ]
  },
  {
   "cell_type": "code",
   "execution_count": 3,
   "id": "5ea7dcbd",
   "metadata": {},
   "outputs": [
    {
     "name": "stdout",
     "output_type": "stream",
     "text": [
      "C:\\Users\\Lenovo\\AppData\\Roaming\\jupyter\\runtime\\kernel-61b0acce-7e6b-4dbc-8358-937c5fc614f7.json\n"
     ]
    },
    {
     "ename": "error",
     "evalue": "OpenCV(4.8.1) D:\\a\\opencv-python\\opencv-python\\opencv\\modules\\dnn\\src\\caffe\\caffe_io.cpp:1126: error: (-2:Unspecified error) FAILED: fs.is_open(). Can't open \"C:\\Users\\Lenovo\\AppData\\Roaming\\jupyter\\runtime\\kernel-61b0acce-7e6b-4dbc-8358-937c5fc614f7.json\\deploy.prototxt\" in function 'cv::dnn::ReadProtoFromTextFile'\n",
     "output_type": "error",
     "traceback": [
      "\u001b[1;31m---------------------------------------------------------------------------\u001b[0m",
      "\u001b[1;31merror\u001b[0m                                     Traceback (most recent call last)",
      "Cell \u001b[1;32mIn[3], line 23\u001b[0m\n\u001b[0;32m     21\u001b[0m prototxtpath\u001b[38;5;241m=\u001b[39mos\u001b[38;5;241m.\u001b[39mpath\u001b[38;5;241m.\u001b[39msep\u001b[38;5;241m.\u001b[39mjoin([args[\u001b[38;5;124m\"\u001b[39m\u001b[38;5;124mface\u001b[39m\u001b[38;5;124m\"\u001b[39m],\u001b[38;5;124m\"\u001b[39m\u001b[38;5;124mdeploy.prototxt\u001b[39m\u001b[38;5;124m\"\u001b[39m])\n\u001b[0;32m     22\u001b[0m weightspath\u001b[38;5;241m=\u001b[39mos\u001b[38;5;241m.\u001b[39mpath\u001b[38;5;241m.\u001b[39msep\u001b[38;5;241m.\u001b[39mjoin([args[\u001b[38;5;124m\"\u001b[39m\u001b[38;5;124mface\u001b[39m\u001b[38;5;124m\"\u001b[39m],\u001b[38;5;124m\"\u001b[39m\u001b[38;5;124mres10_300x300_ssd_iter_140000.caffemodel\u001b[39m\u001b[38;5;124m\"\u001b[39m])\n\u001b[1;32m---> 23\u001b[0m faceNet\u001b[38;5;241m=\u001b[39mcv2\u001b[38;5;241m.\u001b[39mdnn\u001b[38;5;241m.\u001b[39mreadNet(prototxtpath,weightspath)\n\u001b[0;32m     24\u001b[0m maskNet\u001b[38;5;241m=\u001b[39mload_model(args[\u001b[38;5;124m\"\u001b[39m\u001b[38;5;124mmodel\u001b[39m\u001b[38;5;124m\"\u001b[39m])\n\u001b[0;32m     25\u001b[0m vs\u001b[38;5;241m=\u001b[39mVideoStream(src\u001b[38;5;241m=\u001b[39m\u001b[38;5;241m0\u001b[39m)\u001b[38;5;241m.\u001b[39mstart()\n",
      "\u001b[1;31merror\u001b[0m: OpenCV(4.8.1) D:\\a\\opencv-python\\opencv-python\\opencv\\modules\\dnn\\src\\caffe\\caffe_io.cpp:1126: error: (-2:Unspecified error) FAILED: fs.is_open(). Can't open \"C:\\Users\\Lenovo\\AppData\\Roaming\\jupyter\\runtime\\kernel-61b0acce-7e6b-4dbc-8358-937c5fc614f7.json\\deploy.prototxt\" in function 'cv::dnn::ReadProtoFromTextFile'\n"
     ]
    }
   ],
   "source": [
    "def findAction(frame,faceNet,maskNet):\n",
    "    (h,w)=frame.shape[:2]\n",
    "    blob = cv2.dnn.blobFromImage(frame,1.0,(300,300),(104.0,177.0,123.0))\n",
    "    faceNet.setInput(blob)\n",
    "    detections=faceNet.forward()\n",
    "    faces=[]\n",
    "    locs=[]\n",
    "    preds=[]\n",
    "    for i in range(0,detections.shape[2]):\n",
    "        confidence=detections[0,0,i,2]\n",
    "    if len(faces)>0:\n",
    "        faces=np.array(faces,dtype='float32')\n",
    "        preds=maskNet.predict(faces,batch_size=32)\n",
    "    return (locs,preds)\n",
    "ap=argparse.ArgumentParser()\n",
    "ap.add_argument(\"-f\",\"--face\",type=str,default=\"face_detector\",help=\"path to face detector model dir\")\n",
    "ap.add_argument(\"-m\",\"--model\",type=str,default=\"mask detector model\",help=\"path to trained detector model\")\n",
    "ap.add_argument(\"-c\",\"--confidence\",type=float,default=0.5,help=\"minimum probaility to filter week prediction\")\n",
    "args=vars(ap.parse_args())\n",
    "print(args[\"face\"])\n",
    "prototxtpath=os.path.sep.join([args[\"face\"],\"deploy.prototxt\"])\n",
    "weightspath=os.path.sep.join([args[\"face\"],\"res10_300x300_ssd_iter_140000.caffemodel\"])\n",
    "faceNet=cv2.dnn.readNet(prototxtpath,weightspath)\n",
    "maskNet=load_model(args[\"model\"])\n",
    "vs=VideoStream(src=0).start()\n",
    "time.sleep(2.0)\n",
    "while(True):\n",
    "    frame=vs.read()\n",
    "    frame=imutils.resize(frame,width=400)\n",
    "    (locs,preds)=findAction(frame,faceNet,maskNet)\n",
    "    for (box,pred) in zip(locs,preds):\n",
    "        (startX,startY,endX,endY)=box\n",
    "        (closed,opn)=pred\n",
    "        label=\"Sleeping\" if closed>opn else \"not sleeping\"\n",
    "        color(0,255,0) if label==\"Sleeping\" else color(0,0,255)\n",
    "        if(label==\"Sleeping\"):\n",
    "            cv2.putText(frame,\"you are sleeping\",(startX,startY-10),cv2.FONT_HERSHEY_SIMPLEX,0.45,color,2)\n",
    "            cv2.rectangle(frame,(startX,startY),(endX,endY),color,2)\n",
    "        elif(label==\"not sleeping\"):\n",
    "            lab=\"Not Sleeping\"\n",
    "            cv2.putText(frame,\"you are sleeping\",(startX,startY-10),cv2.FONT_HERSHEY_SIMPLEX,0.45,color,2)\n",
    "            cv2.rectangle(frame,(startX,startY),(endX,endY),color,2)\n",
    "    cv2.imshow(\"Frame\",frame)\n",
    "    key=cv2.waitKey(1)&0xFF\n",
    "    if  key==ord(\"q\"):\n",
    "        break\n",
    "cv2.destroyAllwindows()\n",
    "vs.release()\n",
    "            \n",
    "\n",
    "                             "
   ]
  },
  {
   "cell_type": "code",
   "execution_count": null,
   "id": "3fd133f9",
   "metadata": {},
   "outputs": [],
   "source": []
  }
 ],
 "metadata": {
  "kernelspec": {
   "display_name": "Python 3 (ipykernel)",
   "language": "python",
   "name": "python3"
  },
  "language_info": {
   "codemirror_mode": {
    "name": "ipython",
    "version": 3
   },
   "file_extension": ".py",
   "mimetype": "text/x-python",
   "name": "python",
   "nbconvert_exporter": "python",
   "pygments_lexer": "ipython3",
   "version": "3.11.4"
  }
 },
 "nbformat": 4,
 "nbformat_minor": 5
}
