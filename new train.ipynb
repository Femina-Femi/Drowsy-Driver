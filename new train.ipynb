{
 "cells": [
  {
   "cell_type": "code",
   "execution_count": 98,
   "id": "86acfebf",
   "metadata": {},
   "outputs": [],
   "source": [
    "from tensorflow.keras.preprocessing.image import ImageDataGenerator\n",
    "from tensorflow.keras.applications import MobileNetV2\n",
    "from tensorflow.keras.layers import AveragePooling2D,Dropout,Flatten,Dense,Input\n",
    "from tensorflow.keras.models import Model\n",
    "from tensorflow.keras.optimizers import Adam\n",
    "from tensorflow.keras.applications.mobilenet_v2 import preprocess_input\n",
    "from tensorflow.keras.preprocessing.image import img_to_array,load_img\n",
    "from keras.utils import to_categorical\n",
    "from sklearn.preprocessing import LabelBinarizer,LabelEncoder\n",
    "from sklearn.model_selection import train_test_split\n",
    "from sklearn.metrics import classification_report\n",
    "from imutils import paths\n",
    "import matplotlib.pyplot as plt\n",
    "import numpy as np\n",
    "import argparse\n",
    "import os\n"
   ]
  },
  {
   "cell_type": "code",
   "execution_count": 99,
   "id": "c7288f9e",
   "metadata": {},
   "outputs": [],
   "source": [
    "INIT_LR=1e-4\n",
    "EPOCHS= 20\n",
    "BS=32"
   ]
  },
  {
   "cell_type": "code",
   "execution_count": 100,
   "id": "bf420726",
   "metadata": {},
   "outputs": [
    {
     "data": {
      "text/plain": [
       "'import sys\\nsys.argv=[\\'\\']\\ndel sys\\nap=argparse.ArgumentParser()\\nap.add_argument(\"-d\",\"--data\",required=True,help=\"path to input dataset\")\\n\\nap.add_argument(\"-p\",\"--plot\",type=str,default=\"plot.png\",help=\"path to oututloss or accuracy plot\")\\nap.add_argument(\"-m\",\"--model\",type=str,default=\"cnnAction.h5\",help=\"path to model\") \\nargs=vars(ap.parse_args())\\n#args = ap.parse_args(args=[])'"
      ]
     },
     "execution_count": 100,
     "metadata": {},
     "output_type": "execute_result"
    }
   ],
   "source": [
    "'''import sys\n",
    "sys.argv=['']\n",
    "del sys\n",
    "ap=argparse.ArgumentParser()\n",
    "ap.add_argument(\"-d\",\"--data\",required=True,help=\"path to input dataset\")\n",
    "\n",
    "ap.add_argument(\"-p\",\"--plot\",type=str,default=\"plot.png\",help=\"path to oututloss or accuracy plot\")\n",
    "ap.add_argument(\"-m\",\"--model\",type=str,default=\"cnnAction.h5\",help=\"path to model\") \n",
    "args=vars(ap.parse_args())\n",
    "#args = ap.parse_args(args=[])'''"
   ]
  },
  {
   "cell_type": "code",
   "execution_count": null,
   "id": "f32007d1",
   "metadata": {},
   "outputs": [],
   "source": []
  },
  {
   "cell_type": "code",
   "execution_count": 104,
   "id": "ffdad745",
   "metadata": {},
   "outputs": [
    {
     "name": "stdout",
     "output_type": "stream",
     "text": [
      "info loading images...\n"
     ]
    }
   ],
   "source": [
    "print(\"info loading images...\")\n",
    "imagePaths=list(paths.list_images(\"data\"))\n",
    "data=[]\n",
    "labels=[]"
   ]
  },
  {
   "cell_type": "code",
   "execution_count": 105,
   "id": "a89dd7e7",
   "metadata": {},
   "outputs": [],
   "source": [
    "for imagepath in imagePaths:\n",
    "    label=imagepath.split(os.path.sep)[-2] #here folder name is captured for each iamge it is closed or open\n",
    "    #load input image and preprocess it \n",
    "    image=load_img(imagepath,target_size=(224,224))\n",
    "    image=img_to_array(image)\n",
    "    image=preprocess_input(image)\n",
    "    #now data and label list will be updated like data is x label is y which image is open which is closed\n",
    "    data.append(image)\n",
    "    labels.append(label)\n",
    "#convert data and label to array\n",
    "data=np.array(data,dtype='float32')\n",
    "labels=np.array(labels)\n",
    "#perform one hot encoding to label\n",
    "#lb=LabelBinarizer()\n",
    "#lebels=lb.fit_transform(labels)\n",
    "lb=LabelEncoder()\n",
    "labels=lb.fit_transform(labels)\n",
    "labels=to_categorical(labels,num_classes=2)\n",
    "#split train test data\n",
    "x_train,x_test,y_train,y_test=train_test_split(data,labels,test_size=0.20,stratify=labels,random_state=42)\n",
    "\n",
    "    \n",
    "    "
   ]
  },
  {
   "cell_type": "code",
   "execution_count": 107,
   "id": "bd7dce97",
   "metadata": {},
   "outputs": [],
   "source": [
    "aug=ImageDataGenerator(\n",
    "rotation_range=20,\n",
    "zoom_range=0.15,\n",
    "width_shift_range=0.2,\n",
    "height_shift_range=0.2,\n",
    "shear_range=0.15,\n",
    "horizontal_flip=True,\n",
    "fill_mode=\"nearest\"\n",
    "    \n",
    ")"
   ]
  },
  {
   "cell_type": "code",
   "execution_count": 125,
   "id": "c92c1896",
   "metadata": {},
   "outputs": [
    {
     "name": "stdout",
     "output_type": "stream",
     "text": [
      "WARNING:tensorflow:`input_shape` is undefined or non-square, or `rows` is not in [96, 128, 160, 192, 224]. Weights for input shape (224, 224) will be loaded as the default.\n"
     ]
    },
    {
     "name": "stderr",
     "output_type": "stream",
     "text": [
      "WARNING:tensorflow:`input_shape` is undefined or non-square, or `rows` is not in [96, 128, 160, 192, 224]. Weights for input shape (224, 224) will be loaded as the default.\n"
     ]
    }
   ],
   "source": [
    "baseModel=MobileNetV2(weights=\"imagenet\",include_top=False,\n",
    "               input_tensor=Input(shape=(224,224,3)) )"
   ]
  },
  {
   "cell_type": "code",
   "execution_count": 126,
   "id": "d0d553a0",
   "metadata": {},
   "outputs": [],
   "source": [
    "headmodel=baseModel.output\n",
    "headmodel=AveragePooling2D(pool_size=(7,7))(headmodel)\n",
    "headmodel=Flatten(name='Flatten')(headmodel)\n",
    "headmodel=Dense(128,activation='relu')(headmodel)\n",
    "headmodel=Dropout(0.5)(headmodel)\n",
    "headmodel=Dense(2,activation='softmax')(headmodel)"
   ]
  },
  {
   "cell_type": "code",
   "execution_count": 127,
   "id": "08355440",
   "metadata": {},
   "outputs": [],
   "source": [
    "model=Model(inputs=baseModel.input,outputs=headmodel)"
   ]
  },
  {
   "cell_type": "code",
   "execution_count": 128,
   "id": "f5b306bd",
   "metadata": {},
   "outputs": [],
   "source": [
    "for layer in baseModel.layers:\n",
    "    layer.trainable=False"
   ]
  },
  {
   "cell_type": "code",
   "execution_count": 129,
   "id": "3b55c6c9",
   "metadata": {},
   "outputs": [],
   "source": [
    "import tensorflow as tf\n",
    "learning_rate = 0.001\n",
    "momentum = 0.9\n",
    "nesterov = True\n",
    "opt=tf.keras.optimizers.SGD(learning_rate=learning_rate, momentum=momentum, nesterov=nesterov)\n",
    "model.compile(loss='binary_crossentropy',optimizer=opt,metrics=['accuracy'])"
   ]
  },
  {
   "cell_type": "code",
   "execution_count": 130,
   "id": "9015237e",
   "metadata": {},
   "outputs": [
    {
     "name": "stdout",
     "output_type": "stream",
     "text": [
      "Epoch 1/20\n",
      "36/36 [==============================] - 35s 876ms/step - loss: 0.6005 - accuracy: 0.7325 - val_loss: 0.3004 - val_accuracy: 0.9519\n",
      "Epoch 2/20\n",
      "36/36 [==============================] - 30s 846ms/step - loss: 0.2921 - accuracy: 0.9256 - val_loss: 0.1773 - val_accuracy: 0.9725\n",
      "Epoch 3/20\n",
      "36/36 [==============================] - 31s 858ms/step - loss: 0.1952 - accuracy: 0.9557 - val_loss: 0.1355 - val_accuracy: 0.9725\n",
      "Epoch 4/20\n",
      "36/36 [==============================] - 31s 869ms/step - loss: 0.1540 - accuracy: 0.9672 - val_loss: 0.1136 - val_accuracy: 0.9759\n",
      "Epoch 5/20\n",
      "36/36 [==============================] - 31s 860ms/step - loss: 0.1306 - accuracy: 0.9655 - val_loss: 0.1032 - val_accuracy: 0.9725\n",
      "Epoch 6/20\n",
      "36/36 [==============================] - 31s 859ms/step - loss: 0.1083 - accuracy: 0.9734 - val_loss: 0.0969 - val_accuracy: 0.9691\n",
      "Epoch 7/20\n",
      "36/36 [==============================] - 34s 937ms/step - loss: 0.1023 - accuracy: 0.9725 - val_loss: 0.0920 - val_accuracy: 0.9691\n",
      "Epoch 8/20\n",
      "36/36 [==============================] - 32s 883ms/step - loss: 0.0981 - accuracy: 0.9708 - val_loss: 0.0877 - val_accuracy: 0.9725\n",
      "Epoch 9/20\n",
      "36/36 [==============================] - 34s 931ms/step - loss: 0.0836 - accuracy: 0.9770 - val_loss: 0.0848 - val_accuracy: 0.9725\n",
      "Epoch 10/20\n",
      "36/36 [==============================] - 34s 938ms/step - loss: 0.0762 - accuracy: 0.9770 - val_loss: 0.0825 - val_accuracy: 0.9691\n",
      "Epoch 11/20\n",
      "36/36 [==============================] - 33s 921ms/step - loss: 0.0630 - accuracy: 0.9876 - val_loss: 0.0780 - val_accuracy: 0.9759\n",
      "Epoch 12/20\n",
      "36/36 [==============================] - 34s 936ms/step - loss: 0.0615 - accuracy: 0.9832 - val_loss: 0.0780 - val_accuracy: 0.9691\n",
      "Epoch 13/20\n",
      "36/36 [==============================] - 34s 935ms/step - loss: 0.0638 - accuracy: 0.9814 - val_loss: 0.0790 - val_accuracy: 0.9691\n",
      "Epoch 14/20\n",
      "36/36 [==============================] - 34s 943ms/step - loss: 0.0526 - accuracy: 0.9867 - val_loss: 0.0753 - val_accuracy: 0.9691\n",
      "Epoch 15/20\n",
      "36/36 [==============================] - 33s 927ms/step - loss: 0.0558 - accuracy: 0.9823 - val_loss: 0.0750 - val_accuracy: 0.9759\n",
      "Epoch 16/20\n",
      "36/36 [==============================] - 34s 946ms/step - loss: 0.0580 - accuracy: 0.9814 - val_loss: 0.0743 - val_accuracy: 0.9691\n",
      "Epoch 17/20\n",
      "36/36 [==============================] - 34s 964ms/step - loss: 0.0513 - accuracy: 0.9867 - val_loss: 0.0742 - val_accuracy: 0.9691\n",
      "Epoch 18/20\n",
      "36/36 [==============================] - 35s 970ms/step - loss: 0.0529 - accuracy: 0.9814 - val_loss: 0.0721 - val_accuracy: 0.9759\n",
      "Epoch 19/20\n",
      "36/36 [==============================] - 34s 947ms/step - loss: 0.0380 - accuracy: 0.9903 - val_loss: 0.0744 - val_accuracy: 0.9691\n",
      "Epoch 20/20\n",
      "36/36 [==============================] - 34s 951ms/step - loss: 0.0505 - accuracy: 0.9858 - val_loss: 0.0715 - val_accuracy: 0.9725\n"
     ]
    }
   ],
   "source": [
    "h=model.fit(\n",
    "aug.flow(x_train,y_train,batch_size=BS),\n",
    "steps_per_epoch=len(x_train)//BS,\n",
    "validation_data=(x_test,y_test),\n",
    "validation_steps=len(x_test)//BS,\n",
    "epochs=EPOCHS)"
   ]
  },
  {
   "cell_type": "code",
   "execution_count": 131,
   "id": "40491b10",
   "metadata": {},
   "outputs": [
    {
     "name": "stdout",
     "output_type": "stream",
     "text": [
      "10/10 [==============================] - 5s 417ms/step\n"
     ]
    }
   ],
   "source": [
    " #evaluation\n",
    "pred=model.predict(x_test,batch_size=BS)\n",
    "pred=np.argmax(pred,axis=1)"
   ]
  },
  {
   "cell_type": "code",
   "execution_count": 136,
   "id": "bf6f51cc",
   "metadata": {},
   "outputs": [
    {
     "name": "stdout",
     "output_type": "stream",
     "text": [
      "              precision    recall  f1-score   support\n",
      "\n",
      "       Close       0.97      0.97      0.97       145\n",
      "        Open       0.97      0.97      0.97       146\n",
      "\n",
      "    accuracy                           0.97       291\n",
      "   macro avg       0.97      0.97      0.97       291\n",
      "weighted avg       0.97      0.97      0.97       291\n",
      "\n"
     ]
    }
   ],
   "source": [
    "print(classification_report (y_test.argmax(axis=1),pred,target_names=lb.classes_))"
   ]
  },
  {
   "cell_type": "code",
   "execution_count": 143,
   "id": "3e1bc514",
   "metadata": {},
   "outputs": [
    {
     "data": {
      "text/plain": [
       "<matplotlib.legend.Legend at 0x1eeb12fd010>"
      ]
     },
     "execution_count": 143,
     "metadata": {},
     "output_type": "execute_result"
    },
    {
     "data": {
      "image/png": "[encoded data removed]",
      "text/plain": [
       "<Figure size 640x480 with 1 Axes>"
      ]
     },
     "metadata": {},
     "output_type": "display_data"
    }
   ],
   "source": [
    "N=EPOCHS\n",
    "plt.style.use('ggplot')\n",
    "plt.figure()\n",
    "plt.plot(np.arange(0,N),h.history['loss'],label='train_loss')\n",
    "plt.plot(np.arange(0,N),h.history['val_loss'],label='test_loss')\n",
    "plt.plot(np.arange(0,N),h.history['accuracy'],label='train_acc')\n",
    "plt.plot(np.arange(0,N),h.history['val_accuracy'],label='test_acc')\n",
    "plt.title(\"loss and accuracy\")\n",
    "plt.xlabel('EPOCH#')\n",
    "plt.ylabel('loss/accuracy')\n",
    "plt.legend(loc='upper right')\n",
    "#plt.savefig(args['plot'])\n"
   ]
  },
  {
   "cell_type": "code",
   "execution_count": 144,
   "id": "6ede5f36",
   "metadata": {},
   "outputs": [
    {
     "name": "stderr",
     "output_type": "stream",
     "text": [
      "C:\\Users\\Lenovo\\anaconda3\\Lib\\site-packages\\keras\\src\\engine\\training.py:3103: UserWarning: You are saving your model as an HDF5 file via `model.save()`. This file format is considered legacy. We recommend using instead the native Keras format, e.g. `model.save('my_model.keras')`.\n",
      "  saving_api.save_model(\n"
     ]
    }
   ],
   "source": [
    "model.save('models/cnnAction.h5', overwrite=True)"
   ]
  },
  {
   "cell_type": "code",
   "execution_count": null,
   "id": "4a9436a6",
   "metadata": {},
   "outputs": [],
   "source": []
  }
 ],
 "metadata": {
  "kernelspec": {
   "display_name": "Python 3 (ipykernel)",
   "language": "python",
   "name": "python3"
  },
  "language_info": {
   "codemirror_mode": {
    "name": "ipython",
    "version": 3
   },
   "file_extension": ".py",
   "mimetype": "text/x-python",
   "name": "python",
   "nbconvert_exporter": "python",
   "pygments_lexer": "ipython3",
   "version": "3.11.4"
  }
 },
 "nbformat": 4,
 "nbformat_minor": 5
}
